{
 "cells": [
  {
   "cell_type": "markdown",
   "metadata": {},
   "source": [
    "<div style=\"border:solid green 5px; padding: 20px\"> \n",
    "\n",
    "<font size=\"5\"> Проект: Интернет-магазин «Викишоп»\n"
   ]
  },
  {
   "cell_type": "markdown",
   "metadata": {},
   "source": [
    "<font size=\"5\"><b>Описание проекта"
   ]
  },
  {
   "cell_type": "markdown",
   "metadata": {},
   "source": [
    "Интернет-магазин «Викишоп» запускает новый сервис. Теперь пользователи могут редактировать и дополнять описания товаров, как в вики-сообществах. То есть клиенты предлагают свои правки и комментируют изменения других. Магазину нужен инструмент, который будет искать токсичные комментарии и отправлять их на модерацию. \n",
    "\n",
    "Обучите модель классифицировать комментарии на позитивные и негативные. В вашем распоряжении набор данных с разметкой о токсичности правок.\n"
   ]
  },
  {
   "cell_type": "markdown",
   "metadata": {},
   "source": [
    "<font size=\"5\"><strong>Исходные данные.</strong></p>\n"
   ]
  },
  {
   "cell_type": "markdown",
   "metadata": {},
   "source": [
    "Данные находятся в файле `toxic_comments.csv`. Столбец *text* в нём содержит текст комментария, а *toxic* — целевой признак."
   ]
  },
  {
   "cell_type": "markdown",
   "metadata": {},
   "source": [
    "<font size=\"5\"><b>Цель проекта"
   ]
  },
  {
   "cell_type": "markdown",
   "metadata": {},
   "source": [
    "Постройте модель со значением метрики качества F1 не меньше 0.75."
   ]
  },
  {
   "cell_type": "markdown",
   "metadata": {},
   "source": [
    "<font size=\"5\"><b>План работы </b>"
   ]
  },
  {
   "cell_type": "markdown",
   "metadata": {},
   "source": [
    "1. Загрузка и подготовка данных.\n",
    "2. Обучение 2х моделей (DecisionTreeClassifier, LogisticRegression).\n",
    "3. Вывод."
   ]
  },
  {
   "cell_type": "markdown",
   "metadata": {},
   "source": [
    "### Импорты"
   ]
  },
  {
   "cell_type": "markdown",
   "metadata": {},
   "source": [
    "#### Импорты библиотек "
   ]
  },
  {
   "cell_type": "code",
   "execution_count": 1,
   "metadata": {},
   "outputs": [],
   "source": [
    "!pip install tqdm -q"
   ]
  },
  {
   "cell_type": "code",
   "execution_count": 2,
   "metadata": {},
   "outputs": [],
   "source": [
    "import pandas as pd\n",
    "import os\n",
    "import seaborn as sns\n",
    "import matplotlib.pyplot as plt\n",
    "import re\n",
    "from tqdm import tqdm\n",
    "from pymystem3 import Mystem\n",
    "\n",
    "import warnings\n",
    "warnings.simplefilter(\"ignore\")\n",
    "\n",
    "from sklearn.metrics import f1_score\n",
    "from sklearn.pipeline import Pipeline\n",
    "from sklearn.model_selection import train_test_split, RandomizedSearchCV\n",
    "from sklearn.feature_extraction.text import TfidfVectorizer\n",
    "from sklearn.linear_model import LogisticRegression\n",
    "from sklearn.tree import DecisionTreeClassifier\n",
    "from sklearn.dummy import DummyClassifier\n",
    "\n",
    "import nltk\n",
    "from nltk.corpus import stopwords as nltk_stopwords\n",
    "from nltk.stem import WordNetLemmatizer\n",
    "from nltk.tokenize import word_tokenize\n",
    "from nltk import pos_tag\n",
    "from nltk.corpus import wordnet"
   ]
  },
  {
   "cell_type": "code",
   "execution_count": 3,
   "metadata": {},
   "outputs": [
    {
     "name": "stderr",
     "output_type": "stream",
     "text": [
      "[nltk_data] Downloading package averaged_perceptron_tagger to\n",
      "[nltk_data]     /home/jovyan/nltk_data...\n",
      "[nltk_data]   Package averaged_perceptron_tagger is already up-to-\n",
      "[nltk_data]       date!\n",
      "[nltk_data] Downloading package wordnet to /home/jovyan/nltk_data...\n",
      "[nltk_data]   Package wordnet is already up-to-date!\n",
      "[nltk_data] Downloading package stopwords to /home/jovyan/nltk_data...\n",
      "[nltk_data]   Package stopwords is already up-to-date!\n",
      "[nltk_data] Downloading package punkt to /home/jovyan/nltk_data...\n",
      "[nltk_data]   Package punkt is already up-to-date!\n"
     ]
    }
   ],
   "source": [
    "nltk.download('averaged_perceptron_tagger')\n",
    "nltk.download('wordnet')\n",
    "nltk.download('stopwords')\n",
    "nltk.download('punkt')\n",
    "stopwords = set(nltk_stopwords.words('english'))"
   ]
  },
  {
   "cell_type": "markdown",
   "metadata": {},
   "source": [
    "#### Константы и цветовые настройки"
   ]
  },
  {
   "cell_type": "code",
   "execution_count": 4,
   "metadata": {},
   "outputs": [],
   "source": [
    "sns.set_theme(style=\"whitegrid\")\n",
    "colors = sns.color_palette('deep')"
   ]
  },
  {
   "cell_type": "code",
   "execution_count": 5,
   "metadata": {},
   "outputs": [],
   "source": [
    "RANDOM_STATE = 42\n",
    "TEST_SIZE = 0.25"
   ]
  },
  {
   "cell_type": "markdown",
   "metadata": {},
   "source": [
    "#### Импорт данных"
   ]
  },
  {
   "cell_type": "code",
   "execution_count": 6,
   "metadata": {},
   "outputs": [],
   "source": [
    "local_data_path = '/Users/malkovkonstantin/Desktop/DS/Jupiter'\n",
    "\n",
    "files = {\n",
    "    'comm': 'toxic_comments.csv'}\n",
    "\n",
    "dfs = {} \n",
    "\n",
    "for name, filename in files.items():\n",
    "    file_path = os.path.join(local_data_path, filename)\n",
    "    if os.path.exists(file_path):\n",
    "        dfs[name] = pd.read_csv(file_path)\n",
    "    else:\n",
    "        url = f'https://code.s3.yandex.net/datasets/{filename}'\n",
    "        dfs[name] = pd.read_csv(url)\n",
    "\n",
    "for name, df in dfs.items():\n",
    "    df.name = name\n",
    "        \n",
    "for name, df in dfs.items():\n",
    "    globals()[name] = df"
   ]
  },
  {
   "cell_type": "code",
   "execution_count": 7,
   "metadata": {},
   "outputs": [
    {
     "name": "stdout",
     "output_type": "stream",
     "text": [
      "comm\n"
     ]
    }
   ],
   "source": [
    "for name in dfs:\n",
    "    print(name)"
   ]
  },
  {
   "cell_type": "markdown",
   "metadata": {},
   "source": [
    "## Подготовка"
   ]
  },
  {
   "cell_type": "code",
   "execution_count": 8,
   "metadata": {},
   "outputs": [
    {
     "data": {
      "text/html": [
       "<div>\n",
       "<style scoped>\n",
       "    .dataframe tbody tr th:only-of-type {\n",
       "        vertical-align: middle;\n",
       "    }\n",
       "\n",
       "    .dataframe tbody tr th {\n",
       "        vertical-align: top;\n",
       "    }\n",
       "\n",
       "    .dataframe thead th {\n",
       "        text-align: right;\n",
       "    }\n",
       "</style>\n",
       "<table border=\"1\" class=\"dataframe\">\n",
       "  <thead>\n",
       "    <tr style=\"text-align: right;\">\n",
       "      <th></th>\n",
       "      <th>Unnamed: 0</th>\n",
       "      <th>text</th>\n",
       "      <th>toxic</th>\n",
       "    </tr>\n",
       "  </thead>\n",
       "  <tbody>\n",
       "    <tr>\n",
       "      <th>118988</th>\n",
       "      <td>119088</td>\n",
       "      <td>Manuel Rivera-Ortiz \\n\\nDoes anyone else think...</td>\n",
       "      <td>0</td>\n",
       "    </tr>\n",
       "    <tr>\n",
       "      <th>60448</th>\n",
       "      <td>60515</td>\n",
       "      <td>\"\\nI should probably let you know in advance t...</td>\n",
       "      <td>0</td>\n",
       "    </tr>\n",
       "    <tr>\n",
       "      <th>115373</th>\n",
       "      <td>115472</td>\n",
       "      <td>You owe me an apology\\nIf you don't see that, ...</td>\n",
       "      <td>0</td>\n",
       "    </tr>\n",
       "    <tr>\n",
       "      <th>49025</th>\n",
       "      <td>49080</td>\n",
       "      <td>\"\\nHello, I noticed that you created on after ...</td>\n",
       "      <td>0</td>\n",
       "    </tr>\n",
       "    <tr>\n",
       "      <th>30185</th>\n",
       "      <td>30225</td>\n",
       "      <td>Greetings, nice work for a start! The article ...</td>\n",
       "      <td>0</td>\n",
       "    </tr>\n",
       "    <tr>\n",
       "      <th>2889</th>\n",
       "      <td>2889</td>\n",
       "      <td>This is my original account that dates back to...</td>\n",
       "      <td>0</td>\n",
       "    </tr>\n",
       "    <tr>\n",
       "      <th>142094</th>\n",
       "      <td>142247</td>\n",
       "      <td>\"\\n\\n Assad abuses \\n\\nReviving the previous d...</td>\n",
       "      <td>0</td>\n",
       "    </tr>\n",
       "    <tr>\n",
       "      <th>141554</th>\n",
       "      <td>141707</td>\n",
       "      <td>Last successful Invasion? British democracy?\\n...</td>\n",
       "      <td>0</td>\n",
       "    </tr>\n",
       "    <tr>\n",
       "      <th>81908</th>\n",
       "      <td>81984</td>\n",
       "      <td>you guys are idiots. I clearly don't care abou...</td>\n",
       "      <td>1</td>\n",
       "    </tr>\n",
       "    <tr>\n",
       "      <th>104802</th>\n",
       "      <td>104899</td>\n",
       "      <td>\"\\n I would have guessed that it was Canadiand...</td>\n",
       "      <td>0</td>\n",
       "    </tr>\n",
       "  </tbody>\n",
       "</table>\n",
       "</div>"
      ],
      "text/plain": [
       "        Unnamed: 0                                               text  toxic\n",
       "118988      119088  Manuel Rivera-Ortiz \\n\\nDoes anyone else think...      0\n",
       "60448        60515  \"\\nI should probably let you know in advance t...      0\n",
       "115373      115472  You owe me an apology\\nIf you don't see that, ...      0\n",
       "49025        49080  \"\\nHello, I noticed that you created on after ...      0\n",
       "30185        30225  Greetings, nice work for a start! The article ...      0\n",
       "2889          2889  This is my original account that dates back to...      0\n",
       "142094      142247  \"\\n\\n Assad abuses \\n\\nReviving the previous d...      0\n",
       "141554      141707  Last successful Invasion? British democracy?\\n...      0\n",
       "81908        81984  you guys are idiots. I clearly don't care abou...      1\n",
       "104802      104899  \"\\n I would have guessed that it was Canadiand...      0"
      ]
     },
     "execution_count": 8,
     "metadata": {},
     "output_type": "execute_result"
    }
   ],
   "source": [
    "comm.sample(10)"
   ]
  },
  {
   "cell_type": "code",
   "execution_count": 9,
   "metadata": {},
   "outputs": [
    {
     "data": {
      "text/plain": [
       "(159292, 3)"
      ]
     },
     "execution_count": 9,
     "metadata": {},
     "output_type": "execute_result"
    }
   ],
   "source": [
    "comm.shape"
   ]
  },
  {
   "cell_type": "code",
   "execution_count": 10,
   "metadata": {},
   "outputs": [
    {
     "name": "stdout",
     "output_type": "stream",
     "text": [
      "<class 'pandas.core.frame.DataFrame'>\n",
      "RangeIndex: 159292 entries, 0 to 159291\n",
      "Data columns (total 3 columns):\n",
      " #   Column      Non-Null Count   Dtype \n",
      "---  ------      --------------   ----- \n",
      " 0   Unnamed: 0  159292 non-null  int64 \n",
      " 1   text        159292 non-null  object\n",
      " 2   toxic       159292 non-null  int64 \n",
      "dtypes: int64(2), object(1)\n",
      "memory usage: 3.6+ MB\n"
     ]
    }
   ],
   "source": [
    "comm.info()"
   ]
  },
  {
   "cell_type": "code",
   "execution_count": 11,
   "metadata": {},
   "outputs": [
    {
     "data": {
      "text/html": [
       "<div>\n",
       "<style scoped>\n",
       "    .dataframe tbody tr th:only-of-type {\n",
       "        vertical-align: middle;\n",
       "    }\n",
       "\n",
       "    .dataframe tbody tr th {\n",
       "        vertical-align: top;\n",
       "    }\n",
       "\n",
       "    .dataframe thead th {\n",
       "        text-align: right;\n",
       "    }\n",
       "</style>\n",
       "<table border=\"1\" class=\"dataframe\">\n",
       "  <thead>\n",
       "    <tr style=\"text-align: right;\">\n",
       "      <th></th>\n",
       "      <th>count</th>\n",
       "      <th>mean</th>\n",
       "      <th>std</th>\n",
       "      <th>min</th>\n",
       "      <th>25%</th>\n",
       "      <th>50%</th>\n",
       "      <th>75%</th>\n",
       "      <th>max</th>\n",
       "    </tr>\n",
       "  </thead>\n",
       "  <tbody>\n",
       "    <tr>\n",
       "      <th>Unnamed: 0</th>\n",
       "      <td>159292.0</td>\n",
       "      <td>79725.697242</td>\n",
       "      <td>46028.837471</td>\n",
       "      <td>0.0</td>\n",
       "      <td>39872.75</td>\n",
       "      <td>79721.5</td>\n",
       "      <td>119573.25</td>\n",
       "      <td>159450.0</td>\n",
       "    </tr>\n",
       "    <tr>\n",
       "      <th>toxic</th>\n",
       "      <td>159292.0</td>\n",
       "      <td>0.101612</td>\n",
       "      <td>0.302139</td>\n",
       "      <td>0.0</td>\n",
       "      <td>0.00</td>\n",
       "      <td>0.0</td>\n",
       "      <td>0.00</td>\n",
       "      <td>1.0</td>\n",
       "    </tr>\n",
       "  </tbody>\n",
       "</table>\n",
       "</div>"
      ],
      "text/plain": [
       "               count          mean           std  min       25%      50%  \\\n",
       "Unnamed: 0  159292.0  79725.697242  46028.837471  0.0  39872.75  79721.5   \n",
       "toxic       159292.0      0.101612      0.302139  0.0      0.00      0.0   \n",
       "\n",
       "                  75%       max  \n",
       "Unnamed: 0  119573.25  159450.0  \n",
       "toxic            0.00       1.0  "
      ]
     },
     "execution_count": 11,
     "metadata": {},
     "output_type": "execute_result"
    }
   ],
   "source": [
    "comm.describe().T"
   ]
  },
  {
   "cell_type": "markdown",
   "metadata": {},
   "source": [
    "Unnamed: 0 - скорее всего предидущие индексы, сохранившиеся после удаления строк. Удалим столбец"
   ]
  },
  {
   "cell_type": "code",
   "execution_count": 12,
   "metadata": {},
   "outputs": [
    {
     "data": {
      "text/html": [
       "<div>\n",
       "<style scoped>\n",
       "    .dataframe tbody tr th:only-of-type {\n",
       "        vertical-align: middle;\n",
       "    }\n",
       "\n",
       "    .dataframe tbody tr th {\n",
       "        vertical-align: top;\n",
       "    }\n",
       "\n",
       "    .dataframe thead th {\n",
       "        text-align: right;\n",
       "    }\n",
       "</style>\n",
       "<table border=\"1\" class=\"dataframe\">\n",
       "  <thead>\n",
       "    <tr style=\"text-align: right;\">\n",
       "      <th></th>\n",
       "      <th>text</th>\n",
       "      <th>toxic</th>\n",
       "    </tr>\n",
       "  </thead>\n",
       "  <tbody>\n",
       "    <tr>\n",
       "      <th>0</th>\n",
       "      <td>Explanation\\nWhy the edits made under my usern...</td>\n",
       "      <td>0</td>\n",
       "    </tr>\n",
       "    <tr>\n",
       "      <th>1</th>\n",
       "      <td>D'aww! He matches this background colour I'm s...</td>\n",
       "      <td>0</td>\n",
       "    </tr>\n",
       "    <tr>\n",
       "      <th>2</th>\n",
       "      <td>Hey man, I'm really not trying to edit war. It...</td>\n",
       "      <td>0</td>\n",
       "    </tr>\n",
       "    <tr>\n",
       "      <th>3</th>\n",
       "      <td>\"\\nMore\\nI can't make any real suggestions on ...</td>\n",
       "      <td>0</td>\n",
       "    </tr>\n",
       "    <tr>\n",
       "      <th>4</th>\n",
       "      <td>You, sir, are my hero. Any chance you remember...</td>\n",
       "      <td>0</td>\n",
       "    </tr>\n",
       "  </tbody>\n",
       "</table>\n",
       "</div>"
      ],
      "text/plain": [
       "                                                text  toxic\n",
       "0  Explanation\\nWhy the edits made under my usern...      0\n",
       "1  D'aww! He matches this background colour I'm s...      0\n",
       "2  Hey man, I'm really not trying to edit war. It...      0\n",
       "3  \"\\nMore\\nI can't make any real suggestions on ...      0\n",
       "4  You, sir, are my hero. Any chance you remember...      0"
      ]
     },
     "execution_count": 12,
     "metadata": {},
     "output_type": "execute_result"
    }
   ],
   "source": [
    "comm = comm.drop('Unnamed: 0', axis = 1)\n",
    "comm.head(5)"
   ]
  },
  {
   "cell_type": "code",
   "execution_count": 13,
   "metadata": {},
   "outputs": [
    {
     "data": {
      "text/plain": [
       "0"
      ]
     },
     "execution_count": 13,
     "metadata": {},
     "output_type": "execute_result"
    }
   ],
   "source": [
    "comm.duplicated().sum()"
   ]
  },
  {
   "cell_type": "code",
   "execution_count": 14,
   "metadata": {},
   "outputs": [
    {
     "data": {
      "text/html": [
       "<div>\n",
       "<style scoped>\n",
       "    .dataframe tbody tr th:only-of-type {\n",
       "        vertical-align: middle;\n",
       "    }\n",
       "\n",
       "    .dataframe tbody tr th {\n",
       "        vertical-align: top;\n",
       "    }\n",
       "\n",
       "    .dataframe thead th {\n",
       "        text-align: right;\n",
       "    }\n",
       "</style>\n",
       "<table border=\"1\" class=\"dataframe\">\n",
       "  <thead>\n",
       "    <tr style=\"text-align: right;\">\n",
       "      <th></th>\n",
       "      <th>0</th>\n",
       "    </tr>\n",
       "  </thead>\n",
       "  <tbody>\n",
       "    <tr>\n",
       "      <th>text</th>\n",
       "      <td>0</td>\n",
       "    </tr>\n",
       "    <tr>\n",
       "      <th>toxic</th>\n",
       "      <td>0</td>\n",
       "    </tr>\n",
       "  </tbody>\n",
       "</table>\n",
       "</div>"
      ],
      "text/plain": [
       "       0\n",
       "text   0\n",
       "toxic  0"
      ]
     },
     "metadata": {},
     "output_type": "display_data"
    }
   ],
   "source": [
    "display(comm.isna().sum().to_frame())\n"
   ]
  },
  {
   "cell_type": "code",
   "execution_count": 15,
   "metadata": {},
   "outputs": [
    {
     "data": {
      "image/png": "[encoded data removed]",
      "text/plain": [
       "<Figure size 432x432 with 1 Axes>"
      ]
     },
     "metadata": {},
     "output_type": "display_data"
    }
   ],
   "source": [
    "percentages = comm['toxic'].value_counts(normalize=True) * 100\n",
    "plt.figure(figsize=(6,6))  \n",
    "percentages.plot(kind='pie', autopct='%1.1f%%', startangle=20)\n",
    "plt.ylabel('')\n",
    "plt.title('Распределение токсичных коментариев')\n",
    "plt.show()"
   ]
  },
  {
   "cell_type": "markdown",
   "metadata": {},
   "source": [
    "### Вывод"
   ]
  },
  {
   "cell_type": "markdown",
   "metadata": {},
   "source": [
    "Мы загрузили датасет, который содержит 159292 строки и 3 столбца. \n",
    "- В процессе работы был удален столбец 'Unnamed: 0'. \n",
    "- Пропущенные значения и дубликаты не были обнаружены. \n",
    "- Целевой признак 'toxic' представлен с несбалансированными классами, где класс 0 значительно превышает класс 1 в численности. \n",
    "- Дисбаланс классов учтем при разделении данных на обучающую и тестовую выборки."
   ]
  },
  {
   "cell_type": "markdown",
   "metadata": {},
   "source": [
    "## Лемматизация текста"
   ]
  },
  {
   "cell_type": "markdown",
   "metadata": {},
   "source": [
    "Приведем текст к нижнему регистру, избавимся от сокращений, знаков препинания и пробелов."
   ]
  },
  {
   "cell_type": "code",
   "execution_count": 16,
   "metadata": {},
   "outputs": [],
   "source": [
    "def remove_odd(text):\n",
    "    text = text.lower()\n",
    "    text = re.sub(r\"[^a-zA-Z\\s]|what's|\\'s|\\'ve|can't|n't|i'm|\\'re|\\'d|\\'ll\", lambda m: \n",
    "        ' what is ' if m.group() == \"what's\" else \n",
    "        ' is ' if m.group() == \"'s\" else \n",
    "        ' have ' if m.group() == \"'ve\" else \n",
    "        ' cannot ' if m.group() == \"can't\" else \n",
    "        ' not ' if m.group() == \"n't\" else \n",
    "        'i am ' if m.group() == \"i'm\" else \n",
    "        ' are ' if m.group() == \"'re\" else \n",
    "        ' would ' if m.group() == \"'d\" else \n",
    "        ' will ' if m.group() == \"'ll\" else \n",
    "        ' ', text)\n",
    "    text = re.sub(r'\\s+', ' ', text)  \n",
    "    text = text.strip()  \n",
    "    \n",
    "    return text"
   ]
  },
  {
   "cell_type": "code",
   "execution_count": 17,
   "metadata": {},
   "outputs": [
    {
     "data": {
      "text/html": [
       "<div>\n",
       "<style scoped>\n",
       "    .dataframe tbody tr th:only-of-type {\n",
       "        vertical-align: middle;\n",
       "    }\n",
       "\n",
       "    .dataframe tbody tr th {\n",
       "        vertical-align: top;\n",
       "    }\n",
       "\n",
       "    .dataframe thead th {\n",
       "        text-align: right;\n",
       "    }\n",
       "</style>\n",
       "<table border=\"1\" class=\"dataframe\">\n",
       "  <thead>\n",
       "    <tr style=\"text-align: right;\">\n",
       "      <th></th>\n",
       "      <th>text</th>\n",
       "      <th>toxic</th>\n",
       "      <th>text_clear</th>\n",
       "    </tr>\n",
       "  </thead>\n",
       "  <tbody>\n",
       "    <tr>\n",
       "      <th>0</th>\n",
       "      <td>Explanation\\nWhy the edits made under my usern...</td>\n",
       "      <td>0</td>\n",
       "      <td>explanation why the edits made under my userna...</td>\n",
       "    </tr>\n",
       "    <tr>\n",
       "      <th>1</th>\n",
       "      <td>D'aww! He matches this background colour I'm s...</td>\n",
       "      <td>0</td>\n",
       "      <td>d aww he matches this background colour i am s...</td>\n",
       "    </tr>\n",
       "    <tr>\n",
       "      <th>2</th>\n",
       "      <td>Hey man, I'm really not trying to edit war. It...</td>\n",
       "      <td>0</td>\n",
       "      <td>hey man i am really not trying to edit war it ...</td>\n",
       "    </tr>\n",
       "    <tr>\n",
       "      <th>3</th>\n",
       "      <td>\"\\nMore\\nI can't make any real suggestions on ...</td>\n",
       "      <td>0</td>\n",
       "      <td>more i cannot make any real suggestions on imp...</td>\n",
       "    </tr>\n",
       "    <tr>\n",
       "      <th>4</th>\n",
       "      <td>You, sir, are my hero. Any chance you remember...</td>\n",
       "      <td>0</td>\n",
       "      <td>you sir are my hero any chance you remember wh...</td>\n",
       "    </tr>\n",
       "  </tbody>\n",
       "</table>\n",
       "</div>"
      ],
      "text/plain": [
       "                                                text  toxic  \\\n",
       "0  Explanation\\nWhy the edits made under my usern...      0   \n",
       "1  D'aww! He matches this background colour I'm s...      0   \n",
       "2  Hey man, I'm really not trying to edit war. It...      0   \n",
       "3  \"\\nMore\\nI can't make any real suggestions on ...      0   \n",
       "4  You, sir, are my hero. Any chance you remember...      0   \n",
       "\n",
       "                                          text_clear  \n",
       "0  explanation why the edits made under my userna...  \n",
       "1  d aww he matches this background colour i am s...  \n",
       "2  hey man i am really not trying to edit war it ...  \n",
       "3  more i cannot make any real suggestions on imp...  \n",
       "4  you sir are my hero any chance you remember wh...  "
      ]
     },
     "metadata": {},
     "output_type": "display_data"
    }
   ],
   "source": [
    "comm['text_clear'] = comm['text'].apply(lambda x: remove_odd(x.lower()))\n",
    "display(comm.head())"
   ]
  },
  {
   "cell_type": "markdown",
   "metadata": {},
   "source": [
    "определение тега POS"
   ]
  },
  {
   "cell_type": "code",
   "execution_count": 18,
   "metadata": {},
   "outputs": [],
   "source": [
    "def get_wordnet_pos(word):\n",
    "    tag = nltk.pos_tag([word])[0][1][0].upper()\n",
    "    tag_dict = {\"J\": wordnet.ADJ,\n",
    "                \"N\": wordnet.NOUN,\n",
    "                \"V\": wordnet.VERB,\n",
    "                \"R\": wordnet.ADV}\n",
    "    return tag_dict.get(tag, wordnet.NOUN)"
   ]
  },
  {
   "cell_type": "markdown",
   "metadata": {},
   "source": [
    "выполним лемматизацию"
   ]
  },
  {
   "cell_type": "code",
   "execution_count": 19,
   "metadata": {},
   "outputs": [],
   "source": [
    "lemmatizer = nltk.WordNetLemmatizer()\n",
    "\n",
    "def lemmatize_text(text):\n",
    "    lemmatized_text = ' '.join([lemmatizer.lemmatize(x, get_wordnet_pos(x)) for x in nltk.word_tokenize(text)])\n",
    "    return lemmatized_text"
   ]
  },
  {
   "cell_type": "code",
   "execution_count": 20,
   "metadata": {
    "scrolled": true
   },
   "outputs": [
    {
     "name": "stderr",
     "output_type": "stream",
     "text": [
      "100%|██████████| 159292/159292 [18:29<00:00, 143.57it/s]"
     ]
    },
    {
     "name": "stdout",
     "output_type": "stream",
     "text": [
      "CPU times: user 16min 44s, sys: 1min 30s, total: 18min 14s\n",
      "Wall time: 18min 29s\n"
     ]
    },
    {
     "name": "stderr",
     "output_type": "stream",
     "text": [
      "\n"
     ]
    }
   ],
   "source": [
    "%%time\n",
    "tqdm.pandas()\n",
    "comm['lemmatized'] = comm['text_clear'].progress_apply(lemmatize_text)"
   ]
  },
  {
   "cell_type": "code",
   "execution_count": 21,
   "metadata": {},
   "outputs": [
    {
     "data": {
      "text/html": [
       "<div>\n",
       "<style scoped>\n",
       "    .dataframe tbody tr th:only-of-type {\n",
       "        vertical-align: middle;\n",
       "    }\n",
       "\n",
       "    .dataframe tbody tr th {\n",
       "        vertical-align: top;\n",
       "    }\n",
       "\n",
       "    .dataframe thead th {\n",
       "        text-align: right;\n",
       "    }\n",
       "</style>\n",
       "<table border=\"1\" class=\"dataframe\">\n",
       "  <thead>\n",
       "    <tr style=\"text-align: right;\">\n",
       "      <th></th>\n",
       "      <th>text</th>\n",
       "      <th>toxic</th>\n",
       "      <th>text_clear</th>\n",
       "      <th>lemmatized</th>\n",
       "    </tr>\n",
       "  </thead>\n",
       "  <tbody>\n",
       "    <tr>\n",
       "      <th>0</th>\n",
       "      <td>Explanation\\nWhy the edits made under my usern...</td>\n",
       "      <td>0</td>\n",
       "      <td>explanation why the edits made under my userna...</td>\n",
       "      <td>explanation why the edits make under my userna...</td>\n",
       "    </tr>\n",
       "    <tr>\n",
       "      <th>1</th>\n",
       "      <td>D'aww! He matches this background colour I'm s...</td>\n",
       "      <td>0</td>\n",
       "      <td>d aww he matches this background colour i am s...</td>\n",
       "      <td>d aww he match this background colour i be see...</td>\n",
       "    </tr>\n",
       "    <tr>\n",
       "      <th>2</th>\n",
       "      <td>Hey man, I'm really not trying to edit war. It...</td>\n",
       "      <td>0</td>\n",
       "      <td>hey man i am really not trying to edit war it ...</td>\n",
       "      <td>hey man i be really not try to edit war it s j...</td>\n",
       "    </tr>\n",
       "    <tr>\n",
       "      <th>3</th>\n",
       "      <td>\"\\nMore\\nI can't make any real suggestions on ...</td>\n",
       "      <td>0</td>\n",
       "      <td>more i cannot make any real suggestions on imp...</td>\n",
       "      <td>more i can not make any real suggestion on imp...</td>\n",
       "    </tr>\n",
       "    <tr>\n",
       "      <th>4</th>\n",
       "      <td>You, sir, are my hero. Any chance you remember...</td>\n",
       "      <td>0</td>\n",
       "      <td>you sir are my hero any chance you remember wh...</td>\n",
       "      <td>you sir be my hero any chance you remember wha...</td>\n",
       "    </tr>\n",
       "  </tbody>\n",
       "</table>\n",
       "</div>"
      ],
      "text/plain": [
       "                                                text  toxic  \\\n",
       "0  Explanation\\nWhy the edits made under my usern...      0   \n",
       "1  D'aww! He matches this background colour I'm s...      0   \n",
       "2  Hey man, I'm really not trying to edit war. It...      0   \n",
       "3  \"\\nMore\\nI can't make any real suggestions on ...      0   \n",
       "4  You, sir, are my hero. Any chance you remember...      0   \n",
       "\n",
       "                                          text_clear  \\\n",
       "0  explanation why the edits made under my userna...   \n",
       "1  d aww he matches this background colour i am s...   \n",
       "2  hey man i am really not trying to edit war it ...   \n",
       "3  more i cannot make any real suggestions on imp...   \n",
       "4  you sir are my hero any chance you remember wh...   \n",
       "\n",
       "                                          lemmatized  \n",
       "0  explanation why the edits make under my userna...  \n",
       "1  d aww he match this background colour i be see...  \n",
       "2  hey man i be really not try to edit war it s j...  \n",
       "3  more i can not make any real suggestion on imp...  \n",
       "4  you sir be my hero any chance you remember wha...  "
      ]
     },
     "execution_count": 21,
     "metadata": {},
     "output_type": "execute_result"
    }
   ],
   "source": [
    "comm.head()"
   ]
  },
  {
   "cell_type": "markdown",
   "metadata": {},
   "source": [
    "Удалим не нужные столбцы"
   ]
  },
  {
   "cell_type": "code",
   "execution_count": 22,
   "metadata": {},
   "outputs": [
    {
     "data": {
      "text/html": [
       "<div>\n",
       "<style scoped>\n",
       "    .dataframe tbody tr th:only-of-type {\n",
       "        vertical-align: middle;\n",
       "    }\n",
       "\n",
       "    .dataframe tbody tr th {\n",
       "        vertical-align: top;\n",
       "    }\n",
       "\n",
       "    .dataframe thead th {\n",
       "        text-align: right;\n",
       "    }\n",
       "</style>\n",
       "<table border=\"1\" class=\"dataframe\">\n",
       "  <thead>\n",
       "    <tr style=\"text-align: right;\">\n",
       "      <th></th>\n",
       "      <th>toxic</th>\n",
       "      <th>lemmatized</th>\n",
       "    </tr>\n",
       "  </thead>\n",
       "  <tbody>\n",
       "    <tr>\n",
       "      <th>0</th>\n",
       "      <td>0</td>\n",
       "      <td>explanation why the edits make under my userna...</td>\n",
       "    </tr>\n",
       "    <tr>\n",
       "      <th>1</th>\n",
       "      <td>0</td>\n",
       "      <td>d aww he match this background colour i be see...</td>\n",
       "    </tr>\n",
       "    <tr>\n",
       "      <th>2</th>\n",
       "      <td>0</td>\n",
       "      <td>hey man i be really not try to edit war it s j...</td>\n",
       "    </tr>\n",
       "    <tr>\n",
       "      <th>3</th>\n",
       "      <td>0</td>\n",
       "      <td>more i can not make any real suggestion on imp...</td>\n",
       "    </tr>\n",
       "    <tr>\n",
       "      <th>4</th>\n",
       "      <td>0</td>\n",
       "      <td>you sir be my hero any chance you remember wha...</td>\n",
       "    </tr>\n",
       "  </tbody>\n",
       "</table>\n",
       "</div>"
      ],
      "text/plain": [
       "   toxic                                         lemmatized\n",
       "0      0  explanation why the edits make under my userna...\n",
       "1      0  d aww he match this background colour i be see...\n",
       "2      0  hey man i be really not try to edit war it s j...\n",
       "3      0  more i can not make any real suggestion on imp...\n",
       "4      0  you sir be my hero any chance you remember wha..."
      ]
     },
     "execution_count": 22,
     "metadata": {},
     "output_type": "execute_result"
    }
   ],
   "source": [
    "comm = comm.drop(['text', 'text_clear'], axis=1)\n",
    "comm.head(5)"
   ]
  },
  {
   "cell_type": "code",
   "execution_count": 23,
   "metadata": {},
   "outputs": [
    {
     "data": {
      "text/plain": [
       "1313"
      ]
     },
     "execution_count": 23,
     "metadata": {},
     "output_type": "execute_result"
    }
   ],
   "source": [
    "comm.duplicated().sum()\n"
   ]
  },
  {
   "cell_type": "code",
   "execution_count": 24,
   "metadata": {},
   "outputs": [],
   "source": [
    "comm = comm.drop_duplicates()\n"
   ]
  },
  {
   "cell_type": "code",
   "execution_count": 25,
   "metadata": {},
   "outputs": [
    {
     "data": {
      "text/plain": [
       "0"
      ]
     },
     "execution_count": 25,
     "metadata": {},
     "output_type": "execute_result"
    }
   ],
   "source": [
    "comm.duplicated().sum()\n"
   ]
  },
  {
   "cell_type": "code",
   "execution_count": 26,
   "metadata": {},
   "outputs": [
    {
     "data": {
      "text/plain": [
       "(157979, 2)"
      ]
     },
     "execution_count": 26,
     "metadata": {},
     "output_type": "execute_result"
    }
   ],
   "source": [
    "comm.shape"
   ]
  },
  {
   "cell_type": "markdown",
   "metadata": {},
   "source": [
    "### Вывод"
   ]
  },
  {
   "cell_type": "markdown",
   "metadata": {},
   "source": [
    "<p>Мы провели подготовку данных для дальнейшего анализа с помощью следующих шагов:</p>\n",
    "<ul>\n",
    "    <li><strong>Приведение к нижнему регистру:</strong> Все текстовые данные были приведены к нижнему регистру, что помогает унифицировать данные и избежать проблем с учетом регистра в дальнейшем анализе.</li>\n",
    "    <li><strong>Лемматизация:</strong> Процесс лемматизации позволил нам привести слова в тексте к их базовым формам (леммам). Это помогает уменьшить размерность данных, сохраняя при этом смысловую составляющую.</li>\n",
    "    <li><strong>Токенизация:</strong> Текст был разбит на токены, что необходимо для дальнейшей работы с текстовыми данными</li>\n",
    "    <li><strong>Удаление лишних символов и признаков:</strong> Из текста были удалены лишние символы и признаки, такие как знаки препинания, специальные символы и другие нежелательные элементы, которые не несут смысловой нагрузки для анализа.</li>\n",
    "    <li>\n",
    "        <p><strong>Удаление дубликатов после лемматизации:</strong> &nbsp;1313 дубликатов удаленно.</p>\n",
    "        <p>&nbsp;</p>\n",
    "           </li> </ul>\n",
    "<p>Эти шаги помогли нам подготовить данные к дальнейшему анализу и построению моделей, обеспечивая чистоту и однородность данных для точного и эффективного анализа текстовой информации.</p>\n",
    "\n"
   ]
  },
  {
   "cell_type": "markdown",
   "metadata": {},
   "source": [
    "## Обучение"
   ]
  },
  {
   "cell_type": "markdown",
   "metadata": {},
   "source": [
    "### Разбивка на тренировочную и тестовую выборки, подготовка данных\n"
   ]
  },
  {
   "cell_type": "code",
   "execution_count": 27,
   "metadata": {},
   "outputs": [],
   "source": [
    "# X = comm.drop('toxic', axis = 1)\n",
    "X = comm['lemmatized']\n",
    "y = comm['toxic']\n",
    "X_train, X_test, y_train, y_test = train_test_split(X, y,\n",
    "                                                    test_size=TEST_SIZE,\n",
    "                                                    stratify=y,\n",
    "                                                    random_state=RANDOM_STATE)"
   ]
  },
  {
   "cell_type": "code",
   "execution_count": 28,
   "metadata": {
    "scrolled": true
   },
   "outputs": [
    {
     "name": "stdout",
     "output_type": "stream",
     "text": [
      "(118484,)\n",
      "(39495,)\n",
      "(118484,)\n",
      "(39495,)\n"
     ]
    }
   ],
   "source": [
    "print(X_train.shape)\n",
    "print(X_test.shape)\n",
    "print(y_train.shape)\n",
    "print(y_test.shape)"
   ]
  },
  {
   "cell_type": "code",
   "execution_count": 29,
   "metadata": {},
   "outputs": [],
   "source": [
    "pipeline = Pipeline(\n",
    "    [\n",
    "        ('vect', TfidfVectorizer(stop_words=stopwords)),\n",
    "        ('clf', LogisticRegression(solver='liblinear', random_state = RANDOM_STATE)),\n",
    "    ]\n",
    ")"
   ]
  },
  {
   "cell_type": "code",
   "execution_count": 30,
   "metadata": {},
   "outputs": [],
   "source": [
    "param_grid = [\n",
    "    {\n",
    "        'clf': [DecisionTreeClassifier(random_state=RANDOM_STATE)],\n",
    "        'clf__max_depth': range(2, 5)\n",
    "    },\n",
    "    {\n",
    "        'clf': [LogisticRegression(\n",
    "            random_state=RANDOM_STATE,\n",
    "            solver='liblinear',\n",
    "        )],\n",
    "        'clf__penalty': ['l1', 'l2'],\n",
    "        'clf__C': [0.1, 1.0, 10.0],\n",
    "        'clf__class_weight': ['balanced']\n",
    "    }\n",
    "]"
   ]
  },
  {
   "cell_type": "code",
   "execution_count": null,
   "metadata": {},
   "outputs": [],
   "source": []
  },
  {
   "cell_type": "code",
   "execution_count": 31,
   "metadata": {},
   "outputs": [],
   "source": [
    "random_search = RandomizedSearchCV(\n",
    "    estimator=pipeline,\n",
    "    param_distributions=param_grid,\n",
    "    scoring='f1',\n",
    "    n_iter=5,\n",
    "    random_state=RANDOM_STATE,\n",
    "    n_jobs=-1,\n",
    "    cv=5,\n",
    "    error_score='raise'\n",
    ")"
   ]
  },
  {
   "cell_type": "code",
   "execution_count": 32,
   "metadata": {},
   "outputs": [
    {
     "name": "stdout",
     "output_type": "stream",
     "text": [
      "ok\n",
      "CPU times: user 3min 48s, sys: 1min, total: 4min 49s\n",
      "Wall time: 4min 49s\n"
     ]
    }
   ],
   "source": [
    "%%time\n",
    "random_search.fit(X_train, y_train)\n",
    "print(\"ok\")"
   ]
  },
  {
   "cell_type": "code",
   "execution_count": 33,
   "metadata": {},
   "outputs": [
    {
     "name": "stdout",
     "output_type": "stream",
     "text": [
      "Best parameters: {'clf__penalty': 'l2', 'clf__class_weight': 'balanced', 'clf__C': 10.0, 'clf': LogisticRegression(C=10.0, class_weight='balanced', random_state=42,\n",
      "                   solver='liblinear')}\n",
      "Best F1 score: 0.7564906930872832\n"
     ]
    }
   ],
   "source": [
    "print('Best parameters:', random_search.best_params_)\n",
    "print('Best F1 score:', random_search.best_score_)"
   ]
  },
  {
   "cell_type": "code",
   "execution_count": 34,
   "metadata": {
    "scrolled": true
   },
   "outputs": [
    {
     "name": "stdout",
     "output_type": "stream",
     "text": [
      "F1 score: 0.7541918558229725\n"
     ]
    }
   ],
   "source": [
    "preds = random_search.predict(X_test)\n",
    "print('F1 score:', f1_score(y_test, preds))"
   ]
  },
  {
   "cell_type": "code",
   "execution_count": 35,
   "metadata": {},
   "outputs": [
    {
     "name": "stdout",
     "output_type": "stream",
     "text": [
      "F1 Score: 0.16835640065626184\n"
     ]
    }
   ],
   "source": [
    "dummy_clf = DummyClassifier(strategy=\"uniform\")\n",
    "dummy_clf.fit(X_train, y_train)\n",
    "\n",
    "y_pred = dummy_clf.predict(X_test)\n",
    "print(\"F1 Score:\", f1_score(y_test, y_pred))"
   ]
  },
  {
   "cell_type": "markdown",
   "metadata": {},
   "source": [
    "Вывод: Использование более сложной и продвинутой модели значительно улучшило качество предсказаний по сравнению с простой dummy-моделью."
   ]
  },
  {
   "cell_type": "markdown",
   "metadata": {},
   "source": [
    "## Выводы"
   ]
  },
  {
   "cell_type": "markdown",
   "metadata": {},
   "source": [
    " <ul>\n",
    "    <li>Проанализировав предоставленный датасет, мы обнаружили, что он содержит 159292 строк и 3 столбца. Первым шагом было удаление неинформативного столбца 'Unnamed: 0'.</li>\n",
    "    <li>В ходе предобработки данных не было обнаружено пропущенных значений или дубликатов.&nbsp;</li>\n",
    "    <li>Применена лемматизация текста с удалением ненужных символов. В процессе лемматизации удалено 1313 дубликата.</li>\n",
    "    <li>Далее данные были разбиты на тренировочную и тестовую выборки с соотношением 3:1.</li>\n",
    "    <li>Применена трансформация текстов в векторы с использованием TF-IDF с помощью пайплайна.</li>\n",
    "    <li>Обучены две модели: LogisticRegression и DecisionTreeClassifier. </li>\n",
    "    <li>На тренировочной выборке лучший результат показала модель LogisticRegression с параметрами Best parameters: ('clf__penalty': 'l2', 'clf__class_weight': 'balanced', 'clf__C': 10.0), достигнув значения F1 равного 0.756, что соответствует требованиям задачи.</li>\n",
    "    <li>На тестовой выборке модель также продемонстрировала хорошие результаты с метрикой F1 равной 0.754, полностью удовлетворяя условиям задачи.</li>\n",
    "</ul>"
   ]
  },
  {
   "cell_type": "markdown",
   "metadata": {},
   "source": []
  }
 ],
 "metadata": {
  "ExecuteTimeLog": [
   {
    "duration": 344,
    "start_time": "2024-06-30T07:30:49.557Z"
   },
   {
    "duration": 2183,
    "start_time": "2024-06-30T07:32:32.229Z"
   },
   {
    "duration": 13,
    "start_time": "2024-06-30T07:32:36.090Z"
   },
   {
    "duration": 10,
    "start_time": "2024-06-30T07:33:40.856Z"
   },
   {
    "duration": 1937,
    "start_time": "2024-06-30T07:34:11.931Z"
   },
   {
    "duration": 8,
    "start_time": "2024-06-30T07:34:14.856Z"
   },
   {
    "duration": 3,
    "start_time": "2024-06-30T07:34:58.014Z"
   },
   {
    "duration": 5,
    "start_time": "2024-06-30T07:39:02.714Z"
   },
   {
    "duration": 21,
    "start_time": "2024-06-30T07:39:07.032Z"
   },
   {
    "duration": 16,
    "start_time": "2024-06-30T07:58:53.115Z"
   },
   {
    "duration": 17,
    "start_time": "2024-06-30T07:58:59.341Z"
   },
   {
    "duration": 10,
    "start_time": "2024-06-30T08:00:54.570Z"
   },
   {
    "duration": 366,
    "start_time": "2024-06-30T08:01:03.077Z"
   },
   {
    "duration": 51,
    "start_time": "2024-06-30T08:01:03.445Z"
   },
   {
    "duration": 0,
    "start_time": "2024-06-30T08:01:03.497Z"
   },
   {
    "duration": 0,
    "start_time": "2024-06-30T08:01:03.498Z"
   },
   {
    "duration": 0,
    "start_time": "2024-06-30T08:01:03.499Z"
   },
   {
    "duration": 0,
    "start_time": "2024-06-30T08:01:03.500Z"
   },
   {
    "duration": 0,
    "start_time": "2024-06-30T08:01:03.501Z"
   },
   {
    "duration": 0,
    "start_time": "2024-06-30T08:01:03.501Z"
   },
   {
    "duration": 0,
    "start_time": "2024-06-30T08:01:03.502Z"
   },
   {
    "duration": 1081,
    "start_time": "2024-06-30T08:01:39.325Z"
   },
   {
    "duration": 3,
    "start_time": "2024-06-30T08:01:40.408Z"
   },
   {
    "duration": 4,
    "start_time": "2024-06-30T08:01:40.412Z"
   },
   {
    "duration": 2054,
    "start_time": "2024-06-30T08:01:40.417Z"
   },
   {
    "duration": 12,
    "start_time": "2024-06-30T08:01:42.472Z"
   },
   {
    "duration": 9,
    "start_time": "2024-06-30T08:01:42.485Z"
   },
   {
    "duration": 17,
    "start_time": "2024-06-30T08:01:42.495Z"
   },
   {
    "duration": 18,
    "start_time": "2024-06-30T08:01:42.513Z"
   },
   {
    "duration": 9,
    "start_time": "2024-06-30T08:01:42.532Z"
   },
   {
    "duration": 81,
    "start_time": "2024-06-30T08:02:56.515Z"
   },
   {
    "duration": 7,
    "start_time": "2024-06-30T08:03:04.394Z"
   },
   {
    "duration": 7,
    "start_time": "2024-06-30T08:03:07.996Z"
   },
   {
    "duration": 6,
    "start_time": "2024-06-30T08:03:21.794Z"
   },
   {
    "duration": 6,
    "start_time": "2024-06-30T08:03:27.492Z"
   },
   {
    "duration": 6,
    "start_time": "2024-06-30T08:03:30.395Z"
   },
   {
    "duration": 3,
    "start_time": "2024-06-30T08:03:54.705Z"
   },
   {
    "duration": 8,
    "start_time": "2024-06-30T08:04:17.727Z"
   },
   {
    "duration": 3,
    "start_time": "2024-06-30T08:04:22.153Z"
   },
   {
    "duration": 21,
    "start_time": "2024-06-30T08:04:24.280Z"
   },
   {
    "duration": 18,
    "start_time": "2024-06-30T08:04:27.367Z"
   },
   {
    "duration": 11,
    "start_time": "2024-06-30T08:04:33.995Z"
   },
   {
    "duration": 203,
    "start_time": "2024-06-30T08:07:28.377Z"
   },
   {
    "duration": 19,
    "start_time": "2024-06-30T08:09:00.960Z"
   },
   {
    "duration": 96,
    "start_time": "2024-06-30T08:10:21.364Z"
   },
   {
    "duration": 51,
    "start_time": "2024-06-30T08:10:27.407Z"
   },
   {
    "duration": 78,
    "start_time": "2024-06-30T08:11:12.509Z"
   },
   {
    "duration": 2,
    "start_time": "2024-06-30T08:11:34.095Z"
   },
   {
    "duration": 55,
    "start_time": "2024-06-30T08:11:38.008Z"
   },
   {
    "duration": 62,
    "start_time": "2024-06-30T08:12:18.316Z"
   },
   {
    "duration": 72,
    "start_time": "2024-06-30T08:12:44.158Z"
   },
   {
    "duration": 70,
    "start_time": "2024-06-30T08:13:00.350Z"
   },
   {
    "duration": 65,
    "start_time": "2024-06-30T08:13:05.652Z"
   },
   {
    "duration": 73,
    "start_time": "2024-06-30T08:13:28.468Z"
   },
   {
    "duration": 69,
    "start_time": "2024-06-30T08:13:31.536Z"
   },
   {
    "duration": 110,
    "start_time": "2024-06-30T08:13:34.733Z"
   },
   {
    "duration": 64,
    "start_time": "2024-06-30T08:13:37.896Z"
   },
   {
    "duration": 4,
    "start_time": "2024-06-30T08:19:32.052Z"
   },
   {
    "duration": 6,
    "start_time": "2024-06-30T08:19:34.032Z"
   },
   {
    "duration": 209,
    "start_time": "2024-06-30T08:19:56.240Z"
   },
   {
    "duration": 2,
    "start_time": "2024-06-30T08:20:21.092Z"
   },
   {
    "duration": 8233,
    "start_time": "2024-06-30T08:20:23.382Z"
   },
   {
    "duration": 51,
    "start_time": "2024-06-30T08:22:20.825Z"
   },
   {
    "duration": 4,
    "start_time": "2024-06-30T08:22:30.034Z"
   },
   {
    "duration": 7472,
    "start_time": "2024-06-30T08:22:32.171Z"
   },
   {
    "duration": 7571,
    "start_time": "2024-06-30T08:25:50.855Z"
   },
   {
    "duration": 944,
    "start_time": "2024-06-30T08:26:20.968Z"
   },
   {
    "duration": 3,
    "start_time": "2024-06-30T08:26:21.914Z"
   },
   {
    "duration": 6,
    "start_time": "2024-06-30T08:26:21.918Z"
   },
   {
    "duration": 3149,
    "start_time": "2024-06-30T08:26:21.925Z"
   },
   {
    "duration": 3,
    "start_time": "2024-06-30T08:26:25.075Z"
   },
   {
    "duration": 29,
    "start_time": "2024-06-30T08:26:25.079Z"
   },
   {
    "duration": 3,
    "start_time": "2024-06-30T08:26:25.109Z"
   },
   {
    "duration": 33,
    "start_time": "2024-06-30T08:26:25.113Z"
   },
   {
    "duration": 81,
    "start_time": "2024-06-30T08:26:25.147Z"
   },
   {
    "duration": 9,
    "start_time": "2024-06-30T08:26:25.229Z"
   },
   {
    "duration": 33,
    "start_time": "2024-06-30T08:26:25.239Z"
   },
   {
    "duration": 84,
    "start_time": "2024-06-30T08:26:25.273Z"
   },
   {
    "duration": 6,
    "start_time": "2024-06-30T08:26:25.358Z"
   },
   {
    "duration": 7509,
    "start_time": "2024-06-30T08:26:25.366Z"
   },
   {
    "duration": 33,
    "start_time": "2024-06-30T08:29:52.724Z"
   },
   {
    "duration": 82,
    "start_time": "2024-06-30T08:31:14.562Z"
   },
   {
    "duration": 349,
    "start_time": "2024-06-30T08:31:28.575Z"
   },
   {
    "duration": 6,
    "start_time": "2024-06-30T08:33:10.170Z"
   },
   {
    "duration": 943,
    "start_time": "2024-06-30T08:33:15.973Z"
   },
   {
    "duration": 4,
    "start_time": "2024-06-30T08:33:16.917Z"
   },
   {
    "duration": 70,
    "start_time": "2024-06-30T08:33:16.922Z"
   },
   {
    "duration": 1597,
    "start_time": "2024-06-30T08:33:16.993Z"
   },
   {
    "duration": 3,
    "start_time": "2024-06-30T08:33:18.591Z"
   },
   {
    "duration": 15,
    "start_time": "2024-06-30T08:33:18.595Z"
   },
   {
    "duration": 3,
    "start_time": "2024-06-30T08:33:18.611Z"
   },
   {
    "duration": 16,
    "start_time": "2024-06-30T08:33:18.615Z"
   },
   {
    "duration": 21,
    "start_time": "2024-06-30T08:33:18.632Z"
   },
   {
    "duration": 9,
    "start_time": "2024-06-30T08:33:18.654Z"
   },
   {
    "duration": 216,
    "start_time": "2024-06-30T08:33:18.664Z"
   },
   {
    "duration": 19,
    "start_time": "2024-06-30T08:33:18.881Z"
   },
   {
    "duration": 92,
    "start_time": "2024-06-30T08:33:18.901Z"
   },
   {
    "duration": 0,
    "start_time": "2024-06-30T08:33:18.995Z"
   },
   {
    "duration": 0,
    "start_time": "2024-06-30T08:33:18.996Z"
   },
   {
    "duration": 84,
    "start_time": "2024-06-30T08:33:44.587Z"
   },
   {
    "duration": 6,
    "start_time": "2024-06-30T08:33:50.865Z"
   },
   {
    "duration": 7604,
    "start_time": "2024-06-30T08:33:52.981Z"
   },
   {
    "duration": 437,
    "start_time": "2024-06-30T09:03:49.363Z"
   },
   {
    "duration": 3,
    "start_time": "2024-06-30T09:06:46.005Z"
   },
   {
    "duration": 92,
    "start_time": "2024-06-30T09:07:51.472Z"
   },
   {
    "duration": 2,
    "start_time": "2024-06-30T09:08:33.917Z"
   },
   {
    "duration": 61,
    "start_time": "2024-06-30T09:08:35.632Z"
   },
   {
    "duration": 1331,
    "start_time": "2024-06-30T09:10:48.347Z"
   },
   {
    "duration": 3024,
    "start_time": "2024-06-30T09:10:52.621Z"
   },
   {
    "duration": 69,
    "start_time": "2024-06-30T09:11:24.871Z"
   },
   {
    "duration": 2,
    "start_time": "2024-06-30T09:11:28.877Z"
   },
   {
    "duration": 2,
    "start_time": "2024-06-30T09:11:34.196Z"
   },
   {
    "duration": 67,
    "start_time": "2024-06-30T09:11:36.446Z"
   },
   {
    "duration": 937855,
    "start_time": "2024-06-30T09:13:38.288Z"
   },
   {
    "duration": 4,
    "start_time": "2024-06-30T09:29:23.114Z"
   },
   {
    "duration": 6,
    "start_time": "2024-06-30T09:29:31.830Z"
   },
   {
    "duration": 8,
    "start_time": "2024-06-30T09:37:31.182Z"
   },
   {
    "duration": 57,
    "start_time": "2024-06-30T09:38:00.201Z"
   },
   {
    "duration": 167,
    "start_time": "2024-06-30T09:38:22.645Z"
   },
   {
    "duration": 172,
    "start_time": "2024-06-30T09:40:20.152Z"
   },
   {
    "duration": 165,
    "start_time": "2024-06-30T09:40:24.091Z"
   },
   {
    "duration": 7,
    "start_time": "2024-06-30T09:40:31.556Z"
   },
   {
    "duration": 3,
    "start_time": "2024-06-30T09:40:35.416Z"
   },
   {
    "duration": 2,
    "start_time": "2024-06-30T09:41:04.956Z"
   },
   {
    "duration": 44,
    "start_time": "2024-06-30T09:42:21.489Z"
   },
   {
    "duration": 7,
    "start_time": "2024-06-30T09:42:24.326Z"
   },
   {
    "duration": 49,
    "start_time": "2024-06-30T09:42:40.418Z"
   },
   {
    "duration": 8,
    "start_time": "2024-06-30T09:42:42.408Z"
   },
   {
    "duration": 4,
    "start_time": "2024-06-30T09:42:47.620Z"
   },
   {
    "duration": 3,
    "start_time": "2024-06-30T09:43:05.072Z"
   },
   {
    "duration": 3,
    "start_time": "2024-06-30T09:43:15.671Z"
   },
   {
    "duration": 3,
    "start_time": "2024-06-30T09:43:45.333Z"
   },
   {
    "duration": 7,
    "start_time": "2024-06-30T09:47:08.187Z"
   },
   {
    "duration": 10,
    "start_time": "2024-06-30T09:47:19.233Z"
   },
   {
    "duration": 3,
    "start_time": "2024-06-30T09:47:26.593Z"
   },
   {
    "duration": 2,
    "start_time": "2024-06-30T09:47:28.971Z"
   },
   {
    "duration": 2,
    "start_time": "2024-06-30T09:47:42.027Z"
   },
   {
    "duration": 139056,
    "start_time": "2024-06-30T09:49:18.576Z"
   },
   {
    "duration": 3,
    "start_time": "2024-06-30T09:51:56.631Z"
   },
   {
    "duration": 7,
    "start_time": "2024-06-30T10:06:28.543Z"
   },
   {
    "duration": 2021,
    "start_time": "2024-06-30T10:06:42.942Z"
   },
   {
    "duration": 2,
    "start_time": "2024-06-30T10:13:09.513Z"
   },
   {
    "duration": 48,
    "start_time": "2024-06-30T10:13:15.819Z"
   },
   {
    "duration": 3,
    "start_time": "2024-06-30T10:13:17.965Z"
   },
   {
    "duration": 177060,
    "start_time": "2024-06-30T10:13:59.061Z"
   },
   {
    "duration": 3,
    "start_time": "2024-06-30T10:17:32.019Z"
   },
   {
    "duration": 1263,
    "start_time": "2024-06-30T10:17:55.373Z"
   },
   {
    "duration": 3,
    "start_time": "2024-06-30T10:18:32.860Z"
   },
   {
    "duration": 3,
    "start_time": "2024-06-30T10:18:38.171Z"
   },
   {
    "duration": 3,
    "start_time": "2024-06-30T10:26:12.238Z"
   },
   {
    "duration": 3,
    "start_time": "2024-06-30T10:26:16.948Z"
   },
   {
    "duration": 95,
    "start_time": "2024-06-30T10:26:19.041Z"
   },
   {
    "duration": 82,
    "start_time": "2024-06-30T10:26:31.292Z"
   },
   {
    "duration": 4,
    "start_time": "2024-06-30T10:26:43.203Z"
   },
   {
    "duration": 5,
    "start_time": "2024-06-30T10:26:47.790Z"
   },
   {
    "duration": 79,
    "start_time": "2024-06-30T10:26:49.816Z"
   },
   {
    "duration": 3,
    "start_time": "2024-06-30T10:27:30.703Z"
   },
   {
    "duration": 2,
    "start_time": "2024-06-30T10:27:32.492Z"
   },
   {
    "duration": 180793,
    "start_time": "2024-06-30T10:27:34.510Z"
   },
   {
    "duration": 1298,
    "start_time": "2024-06-30T10:32:50.164Z"
   },
   {
    "duration": 3,
    "start_time": "2024-06-30T10:38:42.688Z"
   },
   {
    "duration": 183997,
    "start_time": "2024-06-30T10:38:46.715Z"
   },
   {
    "duration": 3,
    "start_time": "2024-06-30T10:42:14.166Z"
   },
   {
    "duration": 1256,
    "start_time": "2024-06-30T10:42:17.680Z"
   },
   {
    "duration": 49,
    "start_time": "2024-06-30T11:05:30.379Z"
   },
   {
    "duration": 2248,
    "start_time": "2024-06-30T11:07:25.832Z"
   },
   {
    "duration": 1300,
    "start_time": "2024-06-30T11:07:28.083Z"
   },
   {
    "duration": 265,
    "start_time": "2024-06-30T11:07:29.384Z"
   },
   {
    "duration": 3,
    "start_time": "2024-06-30T11:07:29.650Z"
   },
   {
    "duration": 32,
    "start_time": "2024-06-30T11:07:29.655Z"
   },
   {
    "duration": 2237,
    "start_time": "2024-06-30T11:07:29.688Z"
   },
   {
    "duration": 2,
    "start_time": "2024-06-30T11:07:31.927Z"
   },
   {
    "duration": 108,
    "start_time": "2024-06-30T11:07:31.930Z"
   },
   {
    "duration": 112,
    "start_time": "2024-06-30T11:07:32.039Z"
   },
   {
    "duration": 50,
    "start_time": "2024-06-30T11:07:32.153Z"
   },
   {
    "duration": 116,
    "start_time": "2024-06-30T11:07:32.204Z"
   },
   {
    "duration": 192,
    "start_time": "2024-06-30T11:07:32.321Z"
   },
   {
    "duration": 271,
    "start_time": "2024-06-30T11:07:32.514Z"
   },
   {
    "duration": 14,
    "start_time": "2024-06-30T11:07:32.789Z"
   },
   {
    "duration": 143,
    "start_time": "2024-06-30T11:07:32.804Z"
   },
   {
    "duration": 3,
    "start_time": "2024-06-30T11:07:32.949Z"
   },
   {
    "duration": 7485,
    "start_time": "2024-06-30T11:07:32.954Z"
   },
   {
    "duration": 3,
    "start_time": "2024-06-30T11:07:40.440Z"
   },
   {
    "duration": 23,
    "start_time": "2024-06-30T11:07:40.444Z"
   },
   {
    "duration": 920888,
    "start_time": "2024-06-30T11:07:40.468Z"
   },
   {
    "duration": 9,
    "start_time": "2024-06-30T11:23:01.357Z"
   },
   {
    "duration": 98,
    "start_time": "2024-06-30T11:23:01.367Z"
   },
   {
    "duration": 239,
    "start_time": "2024-06-30T11:23:01.466Z"
   },
   {
    "duration": 168,
    "start_time": "2024-06-30T11:23:01.706Z"
   },
   {
    "duration": 192,
    "start_time": "2024-06-30T11:23:01.875Z"
   },
   {
    "duration": 2,
    "start_time": "2024-06-30T11:23:02.068Z"
   },
   {
    "duration": 190,
    "start_time": "2024-06-30T11:23:02.072Z"
   },
   {
    "duration": 3,
    "start_time": "2024-06-30T11:23:02.263Z"
   },
   {
    "duration": 105,
    "start_time": "2024-06-30T11:23:02.267Z"
   },
   {
    "duration": 381,
    "start_time": "2024-06-30T11:23:02.373Z"
   },
   {
    "duration": 319,
    "start_time": "2024-06-30T11:23:02.755Z"
   },
   {
    "duration": 315875,
    "start_time": "2024-06-30T11:23:03.075Z"
   },
   {
    "duration": 4,
    "start_time": "2024-06-30T11:28:18.951Z"
   },
   {
    "duration": 1515,
    "start_time": "2024-06-30T11:28:18.956Z"
   },
   {
    "duration": 2,
    "start_time": "2024-06-30T11:29:04.172Z"
   },
   {
    "duration": 51,
    "start_time": "2024-06-30T11:29:17.047Z"
   },
   {
    "duration": 3,
    "start_time": "2024-06-30T11:29:18.629Z"
   },
   {
    "duration": 3,
    "start_time": "2024-06-30T11:29:20.556Z"
   },
   {
    "duration": 3,
    "start_time": "2024-06-30T11:29:22.830Z"
   },
   {
    "duration": 7,
    "start_time": "2024-06-30T11:29:24.935Z"
   },
   {
    "duration": 355058,
    "start_time": "2024-06-30T11:29:26.762Z"
   },
   {
    "duration": 3,
    "start_time": "2024-06-30T11:35:21.822Z"
   },
   {
    "duration": 1324,
    "start_time": "2024-06-30T11:35:21.826Z"
   },
   {
    "duration": 2871,
    "start_time": "2024-06-30T13:50:08.085Z"
   },
   {
    "duration": 1585,
    "start_time": "2024-06-30T13:50:10.958Z"
   },
   {
    "duration": 148,
    "start_time": "2024-06-30T13:50:12.545Z"
   },
   {
    "duration": 3,
    "start_time": "2024-06-30T13:50:12.695Z"
   },
   {
    "duration": 16,
    "start_time": "2024-06-30T13:50:12.699Z"
   },
   {
    "duration": 2454,
    "start_time": "2024-06-30T13:50:12.717Z"
   },
   {
    "duration": 2,
    "start_time": "2024-06-30T13:50:15.173Z"
   },
   {
    "duration": 111,
    "start_time": "2024-06-30T13:50:15.176Z"
   },
   {
    "duration": 16,
    "start_time": "2024-06-30T13:50:15.288Z"
   },
   {
    "duration": 42,
    "start_time": "2024-06-30T13:50:15.307Z"
   },
   {
    "duration": 21,
    "start_time": "2024-06-30T13:50:15.350Z"
   },
   {
    "duration": 11,
    "start_time": "2024-06-30T13:50:15.373Z"
   },
   {
    "duration": 231,
    "start_time": "2024-06-30T13:50:15.385Z"
   },
   {
    "duration": 20,
    "start_time": "2024-06-30T13:50:15.617Z"
   },
   {
    "duration": 158,
    "start_time": "2024-06-30T13:50:15.638Z"
   },
   {
    "duration": 4,
    "start_time": "2024-06-30T13:50:15.797Z"
   },
   {
    "duration": 8620,
    "start_time": "2024-06-30T13:50:15.803Z"
   },
   {
    "duration": 3,
    "start_time": "2024-06-30T13:50:24.425Z"
   },
   {
    "duration": 7,
    "start_time": "2024-06-30T13:50:24.429Z"
   },
   {
    "duration": 437,
    "start_time": "2024-06-30T13:50:24.437Z"
   },
   {
    "duration": 6,
    "start_time": "2024-06-30T13:50:24.875Z"
   },
   {
    "duration": 33,
    "start_time": "2024-06-30T13:50:24.882Z"
   },
   {
    "duration": 15,
    "start_time": "2024-06-30T13:50:24.916Z"
   },
   {
    "duration": 7,
    "start_time": "2024-06-30T13:50:24.932Z"
   },
   {
    "duration": 4,
    "start_time": "2024-06-30T13:50:24.941Z"
   },
   {
    "duration": 4,
    "start_time": "2024-06-30T13:50:24.946Z"
   },
   {
    "duration": 15,
    "start_time": "2024-06-30T13:50:24.951Z"
   },
   {
    "duration": 0,
    "start_time": "2024-06-30T13:50:24.967Z"
   },
   {
    "duration": 0,
    "start_time": "2024-06-30T13:50:24.968Z"
   },
   {
    "duration": 0,
    "start_time": "2024-06-30T13:50:24.969Z"
   },
   {
    "duration": 0,
    "start_time": "2024-06-30T13:50:24.970Z"
   },
   {
    "duration": 0,
    "start_time": "2024-06-30T13:50:24.971Z"
   },
   {
    "duration": 0,
    "start_time": "2024-06-30T13:50:24.971Z"
   },
   {
    "duration": 0,
    "start_time": "2024-06-30T13:50:24.972Z"
   },
   {
    "duration": 11,
    "start_time": "2024-06-30T14:03:36.121Z"
   },
   {
    "duration": 12,
    "start_time": "2024-06-30T14:04:44.930Z"
   },
   {
    "duration": 2543,
    "start_time": "2024-06-30T14:08:18.187Z"
   },
   {
    "duration": 1444,
    "start_time": "2024-06-30T14:08:20.732Z"
   },
   {
    "duration": 177,
    "start_time": "2024-06-30T14:08:22.178Z"
   },
   {
    "duration": 3,
    "start_time": "2024-06-30T14:08:22.356Z"
   },
   {
    "duration": 4,
    "start_time": "2024-06-30T14:08:22.361Z"
   },
   {
    "duration": 2165,
    "start_time": "2024-06-30T14:08:22.366Z"
   },
   {
    "duration": 2,
    "start_time": "2024-06-30T14:08:24.533Z"
   },
   {
    "duration": 16,
    "start_time": "2024-06-30T14:08:24.536Z"
   },
   {
    "duration": 16,
    "start_time": "2024-06-30T14:08:24.553Z"
   },
   {
    "duration": 51,
    "start_time": "2024-06-30T14:08:24.570Z"
   },
   {
    "duration": 23,
    "start_time": "2024-06-30T14:08:24.622Z"
   },
   {
    "duration": 10,
    "start_time": "2024-06-30T14:08:24.646Z"
   },
   {
    "duration": 229,
    "start_time": "2024-06-30T14:08:24.657Z"
   },
   {
    "duration": 24,
    "start_time": "2024-06-30T14:08:24.888Z"
   },
   {
    "duration": 155,
    "start_time": "2024-06-30T14:08:24.914Z"
   },
   {
    "duration": 4,
    "start_time": "2024-06-30T14:08:25.070Z"
   },
   {
    "duration": 8543,
    "start_time": "2024-06-30T14:08:25.075Z"
   },
   {
    "duration": 4,
    "start_time": "2024-06-30T14:08:33.619Z"
   },
   {
    "duration": 11,
    "start_time": "2024-06-30T14:08:33.625Z"
   },
   {
    "duration": 490,
    "start_time": "2024-06-30T14:08:33.638Z"
   },
   {
    "duration": 7,
    "start_time": "2024-06-30T14:08:34.129Z"
   },
   {
    "duration": 28,
    "start_time": "2024-06-30T14:08:34.137Z"
   },
   {
    "duration": 7,
    "start_time": "2024-06-30T14:08:34.166Z"
   },
   {
    "duration": 6,
    "start_time": "2024-06-30T14:08:34.174Z"
   },
   {
    "duration": 4,
    "start_time": "2024-06-30T14:08:34.181Z"
   },
   {
    "duration": 3,
    "start_time": "2024-06-30T14:08:34.186Z"
   },
   {
    "duration": 32,
    "start_time": "2024-06-30T14:08:34.190Z"
   },
   {
    "duration": 0,
    "start_time": "2024-06-30T14:08:34.224Z"
   },
   {
    "duration": 0,
    "start_time": "2024-06-30T14:08:34.226Z"
   },
   {
    "duration": 0,
    "start_time": "2024-06-30T14:08:34.227Z"
   },
   {
    "duration": 0,
    "start_time": "2024-06-30T14:08:34.228Z"
   },
   {
    "duration": 0,
    "start_time": "2024-06-30T14:08:34.230Z"
   },
   {
    "duration": 0,
    "start_time": "2024-06-30T14:08:34.231Z"
   },
   {
    "duration": 0,
    "start_time": "2024-06-30T14:08:34.232Z"
   },
   {
    "duration": 364,
    "start_time": "2024-06-30T14:16:04.145Z"
   },
   {
    "duration": 1065,
    "start_time": "2024-06-30T14:16:12.584Z"
   },
   {
    "duration": 2639,
    "start_time": "2024-06-30T14:16:34.287Z"
   },
   {
    "duration": 2002,
    "start_time": "2024-06-30T14:16:36.929Z"
   },
   {
    "duration": 254,
    "start_time": "2024-06-30T14:16:38.932Z"
   },
   {
    "duration": 3,
    "start_time": "2024-06-30T14:16:39.187Z"
   },
   {
    "duration": 8,
    "start_time": "2024-06-30T14:16:39.192Z"
   },
   {
    "duration": 2479,
    "start_time": "2024-06-30T14:16:39.201Z"
   },
   {
    "duration": 2,
    "start_time": "2024-06-30T14:16:41.681Z"
   },
   {
    "duration": 21,
    "start_time": "2024-06-30T14:16:41.685Z"
   },
   {
    "duration": 5,
    "start_time": "2024-06-30T14:16:41.708Z"
   },
   {
    "duration": 24,
    "start_time": "2024-06-30T14:16:41.714Z"
   },
   {
    "duration": 21,
    "start_time": "2024-06-30T14:16:41.739Z"
   },
   {
    "duration": 14,
    "start_time": "2024-06-30T14:16:41.761Z"
   },
   {
    "duration": 242,
    "start_time": "2024-06-30T14:16:41.777Z"
   },
   {
    "duration": 19,
    "start_time": "2024-06-30T14:16:42.023Z"
   },
   {
    "duration": 288,
    "start_time": "2024-06-30T14:16:42.043Z"
   },
   {
    "duration": 3,
    "start_time": "2024-06-30T14:16:42.333Z"
   },
   {
    "duration": 9044,
    "start_time": "2024-06-30T14:16:42.338Z"
   },
   {
    "duration": 3,
    "start_time": "2024-06-30T14:16:51.383Z"
   },
   {
    "duration": 4,
    "start_time": "2024-06-30T14:16:51.387Z"
   },
   {
    "duration": 1063089,
    "start_time": "2024-06-30T14:16:51.392Z"
   },
   {
    "duration": 7,
    "start_time": "2024-06-30T14:34:34.482Z"
   },
   {
    "duration": 44,
    "start_time": "2024-06-30T14:34:34.490Z"
   },
   {
    "duration": 196,
    "start_time": "2024-06-30T14:34:34.536Z"
   },
   {
    "duration": 202,
    "start_time": "2024-06-30T14:34:34.733Z"
   },
   {
    "duration": 195,
    "start_time": "2024-06-30T14:34:34.936Z"
   },
   {
    "duration": 3,
    "start_time": "2024-06-30T14:34:35.132Z"
   },
   {
    "duration": 53,
    "start_time": "2024-06-30T14:34:35.136Z"
   },
   {
    "duration": 3,
    "start_time": "2024-06-30T14:34:35.190Z"
   },
   {
    "duration": 4,
    "start_time": "2024-06-30T14:34:35.194Z"
   },
   {
    "duration": 15,
    "start_time": "2024-06-30T14:34:35.198Z"
   },
   {
    "duration": 19,
    "start_time": "2024-06-30T14:34:35.214Z"
   },
   {
    "duration": 420294,
    "start_time": "2024-06-30T14:34:35.234Z"
   },
   {
    "duration": 4,
    "start_time": "2024-06-30T14:41:35.530Z"
   },
   {
    "duration": 1495,
    "start_time": "2024-06-30T14:41:35.535Z"
   },
   {
    "duration": 150,
    "start_time": "2024-06-30T14:42:10.685Z"
   },
   {
    "duration": 15,
    "start_time": "2024-06-30T14:42:14.770Z"
   },
   {
    "duration": 1467,
    "start_time": "2024-06-30T14:42:19.692Z"
   },
   {
    "duration": 3,
    "start_time": "2024-06-30T14:43:52.729Z"
   },
   {
    "duration": 9,
    "start_time": "2024-06-30T14:43:56.854Z"
   },
   {
    "duration": 201210,
    "start_time": "2024-06-30T14:43:59.122Z"
   },
   {
    "duration": 3,
    "start_time": "2024-06-30T14:48:11.144Z"
   },
   {
    "duration": 1466,
    "start_time": "2024-06-30T14:48:14.482Z"
   },
   {
    "duration": 3,
    "start_time": "2024-06-30T14:49:34.047Z"
   },
   {
    "duration": 8,
    "start_time": "2024-06-30T14:49:38.217Z"
   },
   {
    "duration": 317896,
    "start_time": "2024-06-30T14:49:44.621Z"
   },
   {
    "duration": 4,
    "start_time": "2024-06-30T14:55:23.870Z"
   },
   {
    "duration": 1479,
    "start_time": "2024-06-30T14:55:30.898Z"
   },
   {
    "duration": 14,
    "start_time": "2024-06-30T14:55:40.139Z"
   },
   {
    "duration": 16,
    "start_time": "2024-06-30T14:55:46.441Z"
   },
   {
    "duration": 16,
    "start_time": "2024-06-30T14:56:23.808Z"
   },
   {
    "duration": 10,
    "start_time": "2024-06-30T14:56:45.342Z"
   },
   {
    "duration": 17,
    "start_time": "2024-06-30T14:56:58.851Z"
   },
   {
    "duration": 8,
    "start_time": "2024-06-30T14:59:03.810Z"
   },
   {
    "duration": 4,
    "start_time": "2024-06-30T14:59:18.591Z"
   },
   {
    "duration": 19,
    "start_time": "2024-06-30T15:01:30.029Z"
   },
   {
    "duration": 19,
    "start_time": "2024-06-30T15:02:05.313Z"
   },
   {
    "duration": 23,
    "start_time": "2024-06-30T15:04:04.350Z"
   },
   {
    "duration": 16,
    "start_time": "2024-06-30T15:04:29.347Z"
   },
   {
    "duration": 15,
    "start_time": "2024-06-30T15:04:35.633Z"
   },
   {
    "duration": 19,
    "start_time": "2024-06-30T15:08:18.540Z"
   },
   {
    "duration": 16,
    "start_time": "2024-06-30T15:09:14.660Z"
   },
   {
    "duration": 198310,
    "start_time": "2024-06-30T15:09:46.274Z"
   },
   {
    "duration": 8,
    "start_time": "2024-06-30T15:23:01.187Z"
   },
   {
    "duration": 5,
    "start_time": "2024-06-30T15:23:13.834Z"
   },
   {
    "duration": 6,
    "start_time": "2024-06-30T15:23:35.305Z"
   },
   {
    "duration": 3,
    "start_time": "2024-06-30T15:26:21.967Z"
   },
   {
    "duration": 10,
    "start_time": "2024-06-30T15:26:26.348Z"
   },
   {
    "duration": 123,
    "start_time": "2024-06-30T15:26:30.743Z"
   },
   {
    "duration": 121,
    "start_time": "2024-06-30T15:28:42.500Z"
   },
   {
    "duration": 3,
    "start_time": "2024-06-30T15:29:13.062Z"
   },
   {
    "duration": 87,
    "start_time": "2024-06-30T15:29:15.866Z"
   },
   {
    "duration": 3,
    "start_time": "2024-06-30T15:29:19.624Z"
   },
   {
    "duration": 88,
    "start_time": "2024-06-30T15:29:21.812Z"
   },
   {
    "duration": 3,
    "start_time": "2024-06-30T15:35:33.971Z"
   },
   {
    "duration": 108,
    "start_time": "2024-06-30T15:35:37.912Z"
   },
   {
    "duration": 54,
    "start_time": "2024-06-30T15:35:42.088Z"
   },
   {
    "duration": 3,
    "start_time": "2024-06-30T15:35:44.038Z"
   },
   {
    "duration": 3,
    "start_time": "2024-06-30T15:35:46.286Z"
   },
   {
    "duration": 3,
    "start_time": "2024-06-30T15:35:48.002Z"
   },
   {
    "duration": 2,
    "start_time": "2024-06-30T15:35:49.861Z"
   },
   {
    "duration": 324114,
    "start_time": "2024-06-30T15:35:51.808Z"
   },
   {
    "duration": 5,
    "start_time": "2024-06-30T15:41:15.924Z"
   },
   {
    "duration": 3,
    "start_time": "2024-06-30T15:46:30.408Z"
   },
   {
    "duration": 1493,
    "start_time": "2024-06-30T15:46:32.699Z"
   },
   {
    "duration": 20,
    "start_time": "2024-06-30T15:46:38.496Z"
   },
   {
    "duration": 3,
    "start_time": "2024-06-30T15:47:01.720Z"
   },
   {
    "duration": 322806,
    "start_time": "2024-06-30T15:47:05.509Z"
   },
   {
    "duration": 3,
    "start_time": "2024-06-30T15:58:44.841Z"
   },
   {
    "duration": 1415,
    "start_time": "2024-06-30T15:58:47.465Z"
   },
   {
    "duration": 19,
    "start_time": "2024-06-30T15:58:51.374Z"
   },
   {
    "duration": 60,
    "start_time": "2024-06-30T16:14:53.112Z"
   },
   {
    "duration": 3,
    "start_time": "2024-06-30T16:14:55.515Z"
   },
   {
    "duration": 5,
    "start_time": "2024-06-30T16:15:04.653Z"
   },
   {
    "duration": 1451,
    "start_time": "2024-06-30T16:15:36.615Z"
   },
   {
    "duration": 2796,
    "start_time": "2024-06-30T16:18:38.026Z"
   },
   {
    "duration": 1632,
    "start_time": "2024-06-30T16:18:40.824Z"
   },
   {
    "duration": 184,
    "start_time": "2024-06-30T16:18:42.458Z"
   },
   {
    "duration": 3,
    "start_time": "2024-06-30T16:18:42.643Z"
   },
   {
    "duration": 10,
    "start_time": "2024-06-30T16:18:42.648Z"
   },
   {
    "duration": 2583,
    "start_time": "2024-06-30T16:18:42.659Z"
   },
   {
    "duration": 2,
    "start_time": "2024-06-30T16:18:45.244Z"
   },
   {
    "duration": 41,
    "start_time": "2024-06-30T16:18:45.247Z"
   },
   {
    "duration": 10,
    "start_time": "2024-06-30T16:18:45.290Z"
   },
   {
    "duration": 32,
    "start_time": "2024-06-30T16:18:45.301Z"
   },
   {
    "duration": 41,
    "start_time": "2024-06-30T16:18:45.335Z"
   },
   {
    "duration": 11,
    "start_time": "2024-06-30T16:18:45.377Z"
   },
   {
    "duration": 234,
    "start_time": "2024-06-30T16:18:45.389Z"
   },
   {
    "duration": 20,
    "start_time": "2024-06-30T16:18:45.625Z"
   },
   {
    "duration": 181,
    "start_time": "2024-06-30T16:18:45.646Z"
   },
   {
    "duration": 4,
    "start_time": "2024-06-30T16:18:45.829Z"
   },
   {
    "duration": 8604,
    "start_time": "2024-06-30T16:18:45.835Z"
   },
   {
    "duration": 3,
    "start_time": "2024-06-30T16:18:54.440Z"
   },
   {
    "duration": 14,
    "start_time": "2024-06-30T16:18:54.444Z"
   },
   {
    "duration": 275482,
    "start_time": "2024-06-30T16:36:59.432Z"
   },
   {
    "duration": 5,
    "start_time": "2024-06-30T16:41:34.915Z"
   },
   {
    "duration": 1541,
    "start_time": "2024-06-30T16:41:34.921Z"
   },
   {
    "duration": 19,
    "start_time": "2024-06-30T16:41:36.464Z"
   },
   {
    "duration": 6,
    "start_time": "2024-06-30T16:42:18.341Z"
   },
   {
    "duration": 131,
    "start_time": "2024-06-30T16:42:30.350Z"
   },
   {
    "duration": 184,
    "start_time": "2024-06-30T16:42:42.038Z"
   },
   {
    "duration": 189,
    "start_time": "2024-06-30T16:42:44.631Z"
   },
   {
    "duration": 182,
    "start_time": "2024-06-30T16:42:47.930Z"
   },
   {
    "duration": 4,
    "start_time": "2024-06-30T16:42:49.978Z"
   },
   {
    "duration": 53,
    "start_time": "2024-06-30T16:42:59.216Z"
   },
   {
    "duration": 3,
    "start_time": "2024-06-30T16:43:02.083Z"
   },
   {
    "duration": 2,
    "start_time": "2024-06-30T16:43:08.264Z"
   },
   {
    "duration": 3,
    "start_time": "2024-06-30T16:43:10.193Z"
   },
   {
    "duration": 9,
    "start_time": "2024-06-30T16:43:12.664Z"
   },
   {
    "duration": 274086,
    "start_time": "2024-06-30T16:43:14.831Z"
   },
   {
    "duration": 4,
    "start_time": "2024-06-30T16:51:35.376Z"
   },
   {
    "duration": 1539,
    "start_time": "2024-06-30T16:51:37.815Z"
   },
   {
    "duration": 19,
    "start_time": "2024-06-30T16:51:42.544Z"
   },
   {
    "duration": 13,
    "start_time": "2024-06-30T16:52:25.542Z"
   },
   {
    "duration": 2605,
    "start_time": "2024-06-30T16:52:39.597Z"
   },
   {
    "duration": 1523,
    "start_time": "2024-06-30T16:52:42.205Z"
   },
   {
    "duration": 183,
    "start_time": "2024-06-30T16:52:43.729Z"
   },
   {
    "duration": 3,
    "start_time": "2024-06-30T16:52:43.914Z"
   },
   {
    "duration": 6,
    "start_time": "2024-06-30T16:52:43.919Z"
   },
   {
    "duration": 2294,
    "start_time": "2024-06-30T16:52:43.926Z"
   },
   {
    "duration": 3,
    "start_time": "2024-06-30T16:52:46.222Z"
   },
   {
    "duration": 30,
    "start_time": "2024-06-30T16:52:46.226Z"
   },
   {
    "duration": 3,
    "start_time": "2024-06-30T16:52:46.257Z"
   },
   {
    "duration": 32,
    "start_time": "2024-06-30T16:52:46.261Z"
   },
   {
    "duration": 43,
    "start_time": "2024-06-30T16:52:46.295Z"
   },
   {
    "duration": 17,
    "start_time": "2024-06-30T16:52:46.339Z"
   },
   {
    "duration": 251,
    "start_time": "2024-06-30T16:52:46.357Z"
   },
   {
    "duration": 22,
    "start_time": "2024-06-30T16:52:46.611Z"
   },
   {
    "duration": 157,
    "start_time": "2024-06-30T16:52:46.634Z"
   },
   {
    "duration": 4,
    "start_time": "2024-06-30T16:52:46.792Z"
   },
   {
    "duration": 8641,
    "start_time": "2024-06-30T16:52:46.797Z"
   },
   {
    "duration": 3,
    "start_time": "2024-06-30T16:52:55.439Z"
   },
   {
    "duration": 7,
    "start_time": "2024-06-30T16:52:55.443Z"
   },
   {
    "duration": 1109491,
    "start_time": "2024-06-30T16:52:55.451Z"
   },
   {
    "duration": 8,
    "start_time": "2024-06-30T17:11:24.943Z"
   },
   {
    "duration": 36,
    "start_time": "2024-06-30T17:11:24.952Z"
   },
   {
    "duration": 216,
    "start_time": "2024-06-30T17:11:24.989Z"
   },
   {
    "duration": 202,
    "start_time": "2024-06-30T17:11:25.211Z"
   },
   {
    "duration": 194,
    "start_time": "2024-06-30T17:11:25.414Z"
   },
   {
    "duration": 4,
    "start_time": "2024-06-30T17:11:25.609Z"
   },
   {
    "duration": 60,
    "start_time": "2024-06-30T17:11:25.614Z"
   },
   {
    "duration": 3,
    "start_time": "2024-06-30T17:11:25.675Z"
   },
   {
    "duration": 5,
    "start_time": "2024-06-30T17:11:25.679Z"
   },
   {
    "duration": 5,
    "start_time": "2024-06-30T17:11:25.685Z"
   },
   {
    "duration": 8,
    "start_time": "2024-06-30T17:11:25.691Z"
   },
   {
    "duration": 289321,
    "start_time": "2024-06-30T17:11:25.700Z"
   },
   {
    "duration": 7,
    "start_time": "2024-06-30T17:16:15.023Z"
   },
   {
    "duration": 1620,
    "start_time": "2024-06-30T17:16:15.032Z"
   },
   {
    "duration": 20,
    "start_time": "2024-06-30T17:16:16.654Z"
   },
   {
    "duration": 84,
    "start_time": "2024-07-01T03:39:49.670Z"
   },
   {
    "duration": 77,
    "start_time": "2024-07-01T03:44:54.924Z"
   }
  ],
  "kernelspec": {
   "display_name": "Python 3 (ipykernel)",
   "language": "python",
   "name": "python3"
  },
  "language_info": {
   "codemirror_mode": {
    "name": "ipython",
    "version": 3
   },
   "file_extension": ".py",
   "mimetype": "text/x-python",
   "name": "python",
   "nbconvert_exporter": "python",
   "pygments_lexer": "ipython3",
   "version": "3.9.5"
  },
  "toc": {
   "base_numbering": 1,
   "nav_menu": {},
   "number_sections": true,
   "sideBar": true,
   "skip_h1_title": true,
   "title_cell": "Содержание",
   "title_sidebar": "Contents",
   "toc_cell": false,
   "toc_position": {
    "height": "calc(100% - 180px)",
    "left": "10px",
    "top": "150px",
    "width": "302.358px"
   },
   "toc_section_display": true,
   "toc_window_display": true
  }
 },
 "nbformat": 4,
 "nbformat_minor": 2
}
